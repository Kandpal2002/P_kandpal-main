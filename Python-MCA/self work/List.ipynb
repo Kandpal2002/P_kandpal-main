{
 "cells": [
  {
   "cell_type": "code",
   "execution_count": 19,
   "metadata": {},
   "outputs": [
    {
     "name": "stdout",
     "output_type": "stream",
     "text": [
      "Hello world\n"
     ]
    }
   ],
   "source": [
    "print(\"Hello world\")\n"
   ]
  },
  {
   "cell_type": "markdown",
   "metadata": {},
   "source": [
    "List In Python"
   ]
  },
  {
   "cell_type": "code",
   "execution_count": 20,
   "metadata": {},
   "outputs": [
    {
     "name": "stdout",
     "output_type": "stream",
     "text": [
      "['s', [1, 2]]\n",
      "[1, 2, 3, 10, [1, 2]]\n"
     ]
    }
   ],
   "source": [
    "list=[ 1 , 2, 3 , \"s\" ,[ 1,2 ]]\n",
    "\n",
    "print(list[3:8])\n",
    "\n",
    "list[3]= 10\n",
    "print (list)"
   ]
  },
  {
   "cell_type": "markdown",
   "metadata": {},
   "source": [
    "Copy Module"
   ]
  },
  {
   "cell_type": "code",
   "execution_count": 26,
   "metadata": {},
   "outputs": [
    {
     "name": "stdout",
     "output_type": "stream",
     "text": [
      "[2, 3, 4, 5, [1, 2]]\n",
      "[2, 44, 6, 78, [81, 4, 9]]\n",
      "[2, 3, 4, 5, [1, 2]]\n"
     ]
    }
   ],
   "source": [
    "# import copy module \n",
    "\n",
    "import copy\n",
    "\n",
    "# defining list A and List B \n",
    "\n",
    "listA = [2,3,4,5,[1,2]]\n",
    "ListB = copy.copy(listA)\n",
    "\n",
    "# Applying changes in list B\n",
    "\n",
    "listB[1] = 44\n",
    "\n",
    "\n",
    "\n",
    "# Analyze The output \n",
    "\n",
    "print(listA)\n",
    "print(listB)\n",
    "print(listA)"
   ]
  },
  {
   "cell_type": "code",
   "execution_count": null,
   "metadata": {},
   "outputs": [],
   "source": []
  }
 ],
 "metadata": {
  "kernelspec": {
   "display_name": "Python 3",
   "language": "python",
   "name": "python3"
  },
  "language_info": {
   "codemirror_mode": {
    "name": "ipython",
    "version": 3
   },
   "file_extension": ".py",
   "mimetype": "text/x-python",
   "name": "python",
   "nbconvert_exporter": "python",
   "pygments_lexer": "ipython3",
   "version": "3.12.4"
  }
 },
 "nbformat": 4,
 "nbformat_minor": 2
}
