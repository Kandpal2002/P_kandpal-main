{
 "cells": [
  {
   "cell_type": "markdown",
   "metadata": {},
   "source": [
    "Question 1:- Write a program that display current time and pause for two seconds in display time ?"
   ]
  },
  {
   "cell_type": "code",
   "execution_count": 1,
   "metadata": {},
   "outputs": [
    {
     "name": "stdout",
     "output_type": "stream",
     "text": [
      "Current Time: 17:52:52\n",
      "Current Time: 17:52:54\n"
     ]
    }
   ],
   "source": [
    "import time\n",
    "from datetime import datetime\n",
    "\n",
    "# Function to display the current time\n",
    "def display_time():\n",
    "    current_time = datetime.now().strftime(\"%H:%M:%S\")\n",
    "    print(\"Current Time:\", current_time)\n",
    "\n",
    "# Display current time and pause for 2 seconds\n",
    "display_time()\n",
    "time.sleep(2)  # Pause for 2 seconds\n",
    "display_time()  # Display time again after the pause"
   ]
  },
  {
   "cell_type": "markdown",
   "metadata": {},
   "source": [
    "Explanation:\n",
    "1) The datetime.now() function is used to get the current date and time, and strftime(\"%H:%M:%S\") formats it to display only the time (hours, minutes, and seconds).\n",
    "2) time.sleep(2) pauses the execution for 2 seconds.\n",
    "3) Here in this code when code run for 1st time it shows current time and pause for 2 sec and then print another time."
   ]
  },
  {
   "cell_type": "markdown",
   "metadata": {},
   "source": [
    "Question 2:-Write a program that takes directory address location from user and returns a list that contains all the files in that location . you can use OS module to perform the sections?"
   ]
  },
  {
   "cell_type": "code",
   "execution_count": 2,
   "metadata": {},
   "outputs": [
    {
     "name": "stdout",
     "output_type": "stream",
     "text": [
      "The directory does not exist. Please check the path.\n"
     ]
    }
   ],
   "source": [
    "import os\n",
    "\n",
    "# Function to list all files in the given directory\n",
    "def list_files_in_directory(directory):\n",
    "    try:\n",
    "        # List all files in the directory\n",
    "        files = [f for f in os.listdir(directory) if os.path.isfile(os.path.join(directory, f))]\n",
    "        return files\n",
    "    except FileNotFoundError:\n",
    "        return \"The directory does not exist. Please check the path.\"\n",
    "    except PermissionError:\n",
    "        return \"Permission denied. Unable to access the directory.\"\n",
    "\n",
    "# Take directory input from the user\n",
    "directory = input(\"Enter the directory path: \")\n",
    "\n",
    "# Get the list of files in the directory\n",
    "files = list_files_in_directory(directory)\n",
    "\n",
    "# Display the files\n",
    "if isinstance(files, list) and files:\n",
    "    print(\"Files in the directory:\")\n",
    "    for file in files:\n",
    "        print(file)\n",
    "elif not files:\n",
    "    print(\"No files found in the directory.\")\n",
    "else:\n",
    "    print(files)  # In case of errors like \"directory not found\" or \"permission denied\"\n"
   ]
  },
  {
   "cell_type": "markdown",
   "metadata": {},
   "source": [
    "Explanation:\n",
    "1) os.listdir(directory) lists all the contents (files and directories) of the provided directory.\n",
    "2) os.path.isfile(os.path.join(directory, f)) ensures that only files are returned, ignoring subdirectories.\n",
    "3) Error handling is provided using try and except blocks to handle invalid paths and permission issues.\n",
    "4) The program asks the user for the directory path and displays the list of files if the directory exists and is accessible."
   ]
  }
 ],
 "metadata": {
  "kernelspec": {
   "display_name": "Python 3",
   "language": "python",
   "name": "python3"
  },
  "language_info": {
   "codemirror_mode": {
    "name": "ipython",
    "version": 3
   },
   "file_extension": ".py",
   "mimetype": "text/x-python",
   "name": "python",
   "nbconvert_exporter": "python",
   "pygments_lexer": "ipython3",
   "version": "3.12.4"
  }
 },
 "nbformat": 4,
 "nbformat_minor": 2
}
