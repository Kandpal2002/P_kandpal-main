{
 "cells": [
  {
   "cell_type": "markdown",
   "metadata": {},
   "source": [
    "Passing Arguments in Func: "
   ]
  },
  {
   "cell_type": "code",
   "execution_count": 2,
   "metadata": {},
   "outputs": [
    {
     "name": "stdout",
     "output_type": "stream",
     "text": [
      "7\n"
     ]
    }
   ],
   "source": [
    "def add(a,b):\n",
    "    return a+b\n",
    "result= add(3,4)# Passing arguments in funtion:\n",
    "print(result)"
   ]
  },
  {
   "cell_type": "markdown",
   "metadata": {},
   "source": [
    "Multiplication"
   ]
  },
  {
   "cell_type": "code",
   "execution_count": 6,
   "metadata": {},
   "outputs": [],
   "source": [
    "def multiply(a, b):\n",
    "\n",
    "    \"\"\"\n",
    "    Multiplies two numbers and returns the result.\n",
    "    \n",
    "    Parameters:\n",
    "    a (int, float): The first number.\n",
    "    b (int, float): The second number.\n",
    "    \n",
    "    Returns:\n",
    "    int, float: The product of a and b.\n",
    "    \"\"\"\n",
    "    return a + b"
   ]
  },
  {
   "cell_type": "markdown",
   "metadata": {},
   "source": [
    "Keyword and Optional Parameters"
   ]
  },
  {
   "cell_type": "code",
   "execution_count": 11,
   "metadata": {},
   "outputs": [
    {
     "name": "stdout",
     "output_type": "stream",
     "text": [
      "My name is Priyanshu, and I am 23 years old.\n"
     ]
    }
   ],
   "source": [
    "def introduce(name, age=23):\n",
    "\n",
    "    \"\"\"Introduces a person with their name and age.\"\"\"\n",
    "    return f\"My name is {name}, and I am {age} years old.\"\n",
    "\n",
    "\n",
    "print(introduce(\"Priyanshu\"))  # Output: My name is Bob, and I am 25 years old.Calling with keyword arguments"
   ]
  },
  {
   "cell_type": "markdown",
   "metadata": {},
   "source": [
    "Passing Collections to a Function"
   ]
  },
  {
   "cell_type": "code",
   "execution_count": 15,
   "metadata": {},
   "outputs": [
    {
     "name": "stdout",
     "output_type": "stream",
     "text": [
      "15\n"
     ]
    }
   ],
   "source": [
    "def sum_numbers(numbers):\n",
    "\n",
    "    \"\"\"Sums all the numbers in a collection.\"\"\"\n",
    "    return sum(numbers) #Passing a list to the function\n",
    "\n",
    "\n",
    "result = sum_numbers([1, 2, 3, 4 ,5])\n",
    "print(result)  # Output: 15Passing a tuple to the function\n"
   ]
  },
  {
   "cell_type": "markdown",
   "metadata": {},
   "source": [
    "Variable Number of Arguments (args and kwargs)*"
   ]
  },
  {
   "cell_type": "code",
   "execution_count": 19,
   "metadata": {},
   "outputs": [
    {
     "name": "stdout",
     "output_type": "stream",
     "text": [
      "1\n",
      "2\n",
      "3\n",
      "4\n",
      "name: Priyanshu\n",
      "age: 23\n"
     ]
    }
   ],
   "source": [
    "def print_numbers(*args):\n",
    "    \"\"\"Prints each number passed as an argument.\"\"\"\n",
    "    for number in args:\n",
    "        print(number)\n",
    "\n",
    "# Calling with multiple arguments\n",
    "print_numbers(1, 2, 3, 4)\n",
    "\n",
    "# Output:\n",
    "# 1\n",
    "# 2\n",
    "# 3\n",
    "# 4\n",
    "\n",
    "\n",
    "def print_key_value(**kwargs):\n",
    "    \"\"\"Prints each key-value pair passed as keyword arguments.\"\"\"\n",
    "    for key, value in kwargs.items():\n",
    "        print(f\"{key}: {value}\")\n",
    "\n",
    "# Calling with keyword arguments\n",
    "print_key_value(name=\"Priyanshu\", age=23)\n",
    "\n",
    "# Output:\n",
    "# name: Alice\n",
    "# age: 30\n"
   ]
  },
  {
   "cell_type": "markdown",
   "metadata": {},
   "source": [
    "Scope"
   ]
  },
  {
   "cell_type": "code",
   "execution_count": 21,
   "metadata": {},
   "outputs": [
    {
     "name": "stdout",
     "output_type": "stream",
     "text": [
      "30\n",
      "30\n",
      "30\n"
     ]
    }
   ],
   "source": [
    "x = 10  # Global variable\n",
    "\n",
    "def outer_function():\n",
    "    global x  # Access global variable\n",
    "    x = 20  # Now, this modifies the global variable\n",
    "    def inner_function():\n",
    "        global x  # Access global variable\n",
    "        x = 30  # Now, this modifies the global variable\n",
    "        print(x)  # Output: 30\n",
    "    inner_function()\n",
    "    print(x)  # Output: 30 (since the global variable was changed)\n",
    "\n",
    "outer_function()\n",
    "print(x)  # Output: 30 (global variable is now 30)\n"
   ]
  },
  {
   "cell_type": "markdown",
   "metadata": {},
   "source": [
    "Passing Arguments to Functions in Python"
   ]
  },
  {
   "cell_type": "code",
   "execution_count": 24,
   "metadata": {},
   "outputs": [
    {
     "name": "stdout",
     "output_type": "stream",
     "text": [
      "Hello, Alice! Welcome to the team!\n"
     ]
    }
   ],
   "source": [
    "def greet(name, message):\n",
    "    return f\"Hello, {name}! {message}\"\n",
    "print(greet(\"Alice\", \"Welcome to the team!\"))"
   ]
  },
  {
   "cell_type": "markdown",
   "metadata": {},
   "source": [
    "Default Arguments\n"
   ]
  },
  {
   "cell_type": "code",
   "execution_count": 25,
   "metadata": {},
   "outputs": [
    {
     "name": "stdout",
     "output_type": "stream",
     "text": [
      "Hello, Alice! Welcome!\n",
      "Hello, Bob! Good to see you!\n"
     ]
    }
   ],
   "source": [
    "def greet(name, message=\"Welcome!\"):\n",
    "         return f\"Hello, {name}! {message}\"\n",
    "print(greet(\"Alice\"))  # Uses default message\n",
    "print(greet(\"Bob\", \"Good to see you!\"))  # Overrides default\n",
    "     "
   ]
  },
  {
   "cell_type": "markdown",
   "metadata": {},
   "source": [
    "**args (Arbitrary Positional Arguments)*"
   ]
  },
  {
   "cell_type": "code",
   "execution_count": 26,
   "metadata": {},
   "outputs": [
    {
     "name": "stdout",
     "output_type": "stream",
     "text": [
      "Hello, Vishal!\n",
      "Hello, Ayush!\n",
      "Hello, Charlie!\n"
     ]
    }
   ],
   "source": [
    "def greet(*names):\n",
    "         for name in names:\n",
    "            print(f\"Hello, {name}!\")\n",
    "greet(\"Vishal\", \"Ayush\", \"Charlie\")"
   ]
  },
  {
   "cell_type": "markdown",
   "metadata": {},
   "source": [
    "*kwargs (Arbitrary Keyword Arguments)*"
   ]
  },
  {
   "cell_type": "code",
   "execution_count": 29,
   "metadata": {},
   "outputs": [
    {
     "name": "stdout",
     "output_type": "stream",
     "text": [
      "name: priyanshu\n",
      "age: 23\n",
      "job: Software Engineer\n"
     ]
    }
   ],
   "source": [
    "def describe_person(**info):\n",
    "         for key, value in info.items():\n",
    "             print(f\"{key}: {value}\")\n",
    "describe_person(name=\"priyanshu\", age=23, job=\"Software Engineer\")"
   ]
  },
  {
   "cell_type": "markdown",
   "metadata": {},
   "source": [
    "Returning Values from Functions"
   ]
  },
  {
   "cell_type": "code",
   "execution_count": 30,
   "metadata": {},
   "outputs": [
    {
     "name": "stdout",
     "output_type": "stream",
     "text": [
      "8\n"
     ]
    }
   ],
   "source": [
    "def add(a, b):\n",
    "\n",
    "    return a + b\n",
    "result = add(5, 3)\n",
    "print(result)  # Output: 8"
   ]
  },
  {
   "cell_type": "markdown",
   "metadata": {},
   "source": [
    "Multiple Values: Python functions can return multiple values as a tuple."
   ]
  },
  {
   "cell_type": "code",
   "execution_count": 31,
   "metadata": {},
   "outputs": [
    {
     "name": "stdout",
     "output_type": "stream",
     "text": [
      "2 1\n"
     ]
    }
   ],
   "source": [
    "def swap(a, b):\n",
    "\n",
    "    return b, a\n",
    "x, y = swap(1, 2)\n",
    "print(x, y)  # Output: 2 1"
   ]
  },
  {
   "cell_type": "markdown",
   "metadata": {},
   "source": [
    "Modifying Global Variables"
   ]
  },
  {
   "cell_type": "code",
   "execution_count": 32,
   "metadata": {},
   "outputs": [
    {
     "name": "stdout",
     "output_type": "stream",
     "text": [
      "1\n"
     ]
    }
   ],
   "source": [
    "counter = 0\n",
    "\n",
    "\n",
    "def increment():\n",
    "    global counter\n",
    "    counter += 1\n",
    "increment()\n",
    "print(counter)  # Output: 1"
   ]
  },
  {
   "cell_type": "markdown",
   "metadata": {},
   "source": [
    "Behavior of Mutable and Immutable Arguments"
   ]
  },
  {
   "cell_type": "code",
   "execution_count": 33,
   "metadata": {},
   "outputs": [
    {
     "name": "stdout",
     "output_type": "stream",
     "text": [
      "Inside function: 6\n",
      "Outside function: 5\n"
     ]
    }
   ],
   "source": [
    "def modify_immutable(x):\n",
    "      x += 1\n",
    "      print(f\"Inside function: {x}\")\n",
    "a = 5\n",
    "modify_immutable(a)\n",
    "print(f\"Outside function: {a}\")  # Output: 5 (unchanged)"
   ]
  },
  {
   "cell_type": "markdown",
   "metadata": {},
   "source": [
    "Mutable Objects: When you pass a mutable object (like lists, dictionaries) to a function, modifications inside the function affect the original object."
   ]
  },
  {
   "cell_type": "code",
   "execution_count": 34,
   "metadata": {},
   "outputs": [
    {
     "name": "stdout",
     "output_type": "stream",
     "text": [
      "Inside function: [1, 2, 3, 4]\n",
      "Outside function: [1, 2, 3, 4]\n"
     ]
    }
   ],
   "source": [
    "def modify_mutable(lst):\n",
    "      lst.append(4)\n",
    "      print(f\"Inside function: {lst}\")\n",
    "my_list = [1, 2, 3]\n",
    "modify_mutable(my_list)\n",
    "print(f\"Outside function: {my_list}\")  # Output: [1, 2, 3, 4] (modified)\n",
    "  "
   ]
  },
  {
   "cell_type": "markdown",
   "metadata": {},
   "source": [
    "Before and After Modification: The id() function can be used to check if the identity of the object has changed."
   ]
  },
  {
   "cell_type": "code",
   "execution_count": 1,
   "metadata": {},
   "outputs": [
    {
     "name": "stdout",
     "output_type": "stream",
     "text": [
      "Before: 140722021202488\n",
      "After: 140722021202520\n"
     ]
    }
   ],
   "source": [
    "def modify(x):\n",
    "      print(f\"Before: {id(x)}\")\n",
    "      x += 1\n",
    "      print(f\"After: {id(x)}\")\n",
    "a = 5\n",
    "modify(a)"
   ]
  },
  {
   "cell_type": "markdown",
   "metadata": {},
   "source": [
    "Mutable Example:"
   ]
  },
  {
   "cell_type": "code",
   "execution_count": 2,
   "metadata": {},
   "outputs": [
    {
     "name": "stdout",
     "output_type": "stream",
     "text": [
      "Before: 2398254984256\n",
      "After: 2398254984256\n"
     ]
    }
   ],
   "source": [
    "def modify(lst):\n",
    "      print(f\"Before: {id(lst)}\")\n",
    "      lst.append(4)\n",
    "      print(f\"After: {id(lst)}\")\n",
    "my_list = [1, 2, 3]\n",
    "modify(my_list)"
   ]
  },
  {
   "cell_type": "markdown",
   "metadata": {},
   "source": [
    "Functions as \"First-Class Citizens\""
   ]
  },
  {
   "cell_type": "code",
   "execution_count": 4,
   "metadata": {},
   "outputs": [
    {
     "name": "stdout",
     "output_type": "stream",
     "text": [
      "25\n",
      "16\n"
     ]
    }
   ],
   "source": [
    "def square(x):\n",
    "\n",
    "    return x * x #Assigning a function to a variable\n",
    "\n",
    "\n",
    "f = square\n",
    "print(f(5))  # Output: 25Passing a function as an argument\n",
    "\n",
    "\n",
    "def apply_function(func, value):\n",
    "        return func(value)\n",
    "result = apply_function(square, 4)\n",
    "print(result)  # Output: 16"
   ]
  },
  {
   "cell_type": "markdown",
   "metadata": {},
   "source": [
    " Passing Functions to a Function"
   ]
  },
  {
   "cell_type": "code",
   "execution_count": 5,
   "metadata": {},
   "outputs": [
    {
     "name": "stdout",
     "output_type": "stream",
     "text": [
      "10\n",
      "15\n"
     ]
    }
   ],
   "source": [
    "def double(x):\n",
    "\n",
    "    return x * 2\n",
    "def triple(x):\n",
    "    return x * 3\n",
    "def apply_operation(func, number):\n",
    "    return func(number)\n",
    "print(apply_operation(double, 5))  # Output: 10\n",
    "print(apply_operation(triple, 5))  # Output: 15"
   ]
  },
  {
   "cell_type": "markdown",
   "metadata": {},
   "source": [
    "Introduction to args and *kwargs:\n",
    "\n",
    "**Using args:*"
   ]
  },
  {
   "cell_type": "code",
   "execution_count": 6,
   "metadata": {},
   "outputs": [
    {
     "name": "stdout",
     "output_type": "stream",
     "text": [
      "1\n",
      "2\n",
      "3\n",
      "4\n",
      "5\n"
     ]
    }
   ],
   "source": [
    "def print_numbers(*args):\n",
    "\n",
    "    \"\"\"Prints each number passed as an argument.\"\"\"\n",
    "    for number in args:\n",
    "        print(number)#Calling the function with multiple arguments\n",
    "\n",
    "\n",
    "print_numbers(1, 2, 3, 4, 5)"
   ]
  },
  {
   "cell_type": "markdown",
   "metadata": {},
   "source": [
    "*Using kwargs:*"
   ]
  },
  {
   "cell_type": "code",
   "execution_count": 8,
   "metadata": {},
   "outputs": [
    {
     "name": "stdout",
     "output_type": "stream",
     "text": [
      "name: Priyanshu\n",
      "age: 23\n",
      "city: Dehradun\n"
     ]
    }
   ],
   "source": [
    "def print_key_values(**kwargs):\n",
    "\n",
    "    \"\"\"Prints each key-value pair passed as keyword arguments.\"\"\"\n",
    "    for key, value in kwargs.items():\n",
    "        print(f\"{key}: {value}\") #Calling the function with keyword arguments\n",
    "\n",
    "\n",
    "print_key_values(name=\"Priyanshu\", age=23, city=\"Dehradun\")"
   ]
  },
  {
   "cell_type": "markdown",
   "metadata": {},
   "source": [
    "**Combining args and kwargs:*"
   ]
  },
  {
   "cell_type": "code",
   "execution_count": 9,
   "metadata": {},
   "outputs": [
    {
     "name": "stdout",
     "output_type": "stream",
     "text": [
      "Hello, Priyanshu!\n",
      "Hello, Vishal!\n",
      "age: 23\n",
      "city: Dehardun\n"
     ]
    }
   ],
   "source": [
    "def greet(*args, **kwargs):\n",
    "\n",
    "    \"\"\"Greets people and provides additional information.\"\"\"\n",
    "    for name in args:\n",
    "        print(f\"Hello, {name}!\")\n",
    "    \n",
    "    for key, value in kwargs.items():\n",
    "        print(f\"{key}: {value}\") #Calling the function with both positional and keyword arguments\n",
    "\n",
    "\n",
    "greet(\"Priyanshu\", \"Vishal\", age=23, city=\"Dehardun\")"
   ]
  },
  {
   "cell_type": "markdown",
   "metadata": {},
   "source": [
    "Lambda Functions\n",
    "\n",
    "Advanced Explanation:"
   ]
  },
  {
   "cell_type": "code",
   "execution_count": 10,
   "metadata": {},
   "outputs": [
    {
     "name": "stdout",
     "output_type": "stream",
     "text": [
      "8\n",
      "[1, 4, 9, 16]\n"
     ]
    }
   ],
   "source": [
    "# Lambda function to add two numbers\n",
    "\n",
    "add = lambda a, b: a + b\n",
    "print(add(3, 5))  # Output: 8Using a lambda function with map\n",
    "\n",
    "\n",
    "numbers = [1, 2, 3, 4]\n",
    "squared = map(lambda x: x * x, numbers)\n",
    "print(list(squared))  # Output: [1, 4, 9, 16]"
   ]
  },
  {
   "cell_type": "markdown",
   "metadata": {},
   "source": [
    "Map and Filter"
   ]
  },
  {
   "cell_type": "code",
   "execution_count": 11,
   "metadata": {},
   "outputs": [
    {
     "name": "stdout",
     "output_type": "stream",
     "text": [
      "[1, 4, 9, 16, 25]\n",
      "[2, 4]\n"
     ]
    }
   ],
   "source": [
    "# Using map to square each number in a list\n",
    "\n",
    "numbers = [1, 2, 3, 4, 5]\n",
    "squared = map(lambda x: x * x, numbers)\n",
    "print(list(squared))  # Output: [1, 4, 9, 16, 25]Using filter to get only even numbers from a list\n",
    "\n",
    "\n",
    "even_numbers = filter(lambda x: x % 2 == 0, numbers)\n",
    "print(list(even_numbers))  # Output: [2, 4]"
   ]
  },
  {
   "cell_type": "markdown",
   "metadata": {},
   "source": [
    "Mapping Functions in a Dictionary\n",
    "\n",
    "Advanced Explanation:"
   ]
  },
  {
   "cell_type": "code",
   "execution_count": 20,
   "metadata": {},
   "outputs": [
    {
     "name": "stdout",
     "output_type": "stream",
     "text": [
      "15\n"
     ]
    }
   ],
   "source": [
    "def add(a, b):\n",
    "    return a + b\n",
    "\n",
    "def subtract(a, b):\n",
    "    return a - b\n",
    "\n",
    "operations = {\n",
    "    \"add\": add,\n",
    "    \"subtract\": subtract\n",
    "}\n",
    "\n",
    "# Selecting and executing a function from the dictionary\n",
    "operation = \"add\"\n",
    "result = operations[operation](10, 5)  # Call the function with arguments\n",
    "print(result)  # Output: 15\n"
   ]
  },
  {
   "cell_type": "markdown",
   "metadata": {},
   "source": [
    "Inner Functions"
   ]
  },
  {
   "cell_type": "code",
   "execution_count": 21,
   "metadata": {},
   "outputs": [
    {
     "name": "stdout",
     "output_type": "stream",
     "text": [
      "HELLO\n"
     ]
    }
   ],
   "source": [
    "def outer_function(text):\n",
    "\n",
    "    def inner_function():\n",
    "        return text.upper()\n",
    "    return inner_function()\n",
    "\t\n",
    "result = outer_function(\"hello\")\n",
    "print(result)  # Output: HELLO"
   ]
  },
  {
   "cell_type": "markdown",
   "metadata": {},
   "source": [
    "Closures"
   ]
  },
  {
   "cell_type": "code",
   "execution_count": 22,
   "metadata": {},
   "outputs": [
    {
     "name": "stdout",
     "output_type": "stream",
     "text": [
      "30\n"
     ]
    }
   ],
   "source": [
    "def make_multiplier(n):\n",
    "\n",
    "    def multiplier(x):\n",
    "        return x * n\n",
    "    return multiplier\n",
    "times_three = make_multiplier(3)\n",
    "print(times_three(10))  # Output: 30"
   ]
  },
  {
   "cell_type": "markdown",
   "metadata": {},
   "source": [
    "This is all what ,we have learnt Functions in Python......"
   ]
  }
 ],
 "metadata": {
  "kernelspec": {
   "display_name": "Python 3",
   "language": "python",
   "name": "python3"
  },
  "language_info": {
   "codemirror_mode": {
    "name": "ipython",
    "version": 3
   },
   "file_extension": ".py",
   "mimetype": "text/x-python",
   "name": "python",
   "nbconvert_exporter": "python",
   "pygments_lexer": "ipython3",
   "version": "3.12.4"
  }
 },
 "nbformat": 4,
 "nbformat_minor": 2
}
