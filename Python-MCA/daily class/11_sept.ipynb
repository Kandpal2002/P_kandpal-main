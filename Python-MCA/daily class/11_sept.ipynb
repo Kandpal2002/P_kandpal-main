{
 "cells": [
  {
   "cell_type": "markdown",
   "metadata": {},
   "source": [
    "For loop.."
   ]
  },
  {
   "cell_type": "code",
   "execution_count": 32,
   "metadata": {},
   "outputs": [
    {
     "name": "stdout",
     "output_type": "stream",
     "text": [
      "id for sap number1 is abc.ac.in\n",
      "id for sap number2 is rohit@gmail.com\n",
      "id for sap number3 is priyanshu@gmail.com\n"
     ]
    }
   ],
   "source": [
    "def id(sap_id):\n",
    "    for i in range(len(sap_id)):\n",
    "        print(f\"id for sap number{sap_id[i]} is {email[i]}\")\n",
    "\n",
    "\n",
    "\n",
    "sap_id=[1,2,3]\n",
    "email=[\"abc.ac.in\",\"rohit@gmail.com\",\"priyanshu@gmail.com\"]\n",
    "id(sap_id)"
   ]
  },
  {
   "cell_type": "markdown",
   "metadata": {},
   "source": [
    "Mapping.."
   ]
  },
  {
   "cell_type": "code",
   "execution_count": 53,
   "metadata": {},
   "outputs": [
    {
     "name": "stdout",
     "output_type": "stream",
     "text": [
      "['123@stu.upes.ac.in', '234@stu.upes.ac.in', '234.3@stu.upes.ac.in', '2342@stu.upes.ac.in']\n"
     ]
    }
   ],
   "source": [
    "sap_ids = [123, \"234\", 234.3, 2342]\n",
    "emails_id = map(lambda sap: str(sap) + \"@stu.upes.ac.in\", sap_ids)\n",
    "print(list(emails_id))\n"
   ]
  }
 ],
 "metadata": {
  "kernelspec": {
   "display_name": "Python 3",
   "language": "python",
   "name": "python3"
  },
  "language_info": {
   "codemirror_mode": {
    "name": "ipython",
    "version": 3
   },
   "file_extension": ".py",
   "mimetype": "text/x-python",
   "name": "python",
   "nbconvert_exporter": "python",
   "pygments_lexer": "ipython3",
   "version": "3.12.4"
  }
 },
 "nbformat": 4,
 "nbformat_minor": 2
}
