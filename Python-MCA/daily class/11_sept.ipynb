{
 "cells": [
  {
   "cell_type": "markdown",
   "metadata": {},
   "source": [
    "CLASS QUESTION\n",
    "\n",
    "WAP that takes list of SAP ID and returns a list of email address"
   ]
  },
  {
   "cell_type": "code",
   "execution_count": 1,
   "metadata": {},
   "outputs": [],
   "source": [
    "# write a program that takes\n",
    "# list of sap ids and returns a list of email addresses \n",
    "\n",
    "#input \n",
    "list = [123,\"234\"]\n",
    "#output\n",
    "res = [\"123@stu.upes.ac.in\",\"234@stu.upes.ac.in\"]\n",
    "\n",
    "#1 without using map, filter lambda or list comprehension \n",
    "#2 using map. filter, lambda without using list comprehension \n",
    "#3 using list comprehension"
   ]
  },
  {
   "cell_type": "markdown",
   "metadata": {},
   "source": [
    "1 without using map, filter lambda or list comprehension\n",
    "\n",
    "For loop.."
   ]
  },
  {
   "cell_type": "code",
   "execution_count": 2,
   "metadata": {},
   "outputs": [
    {
     "name": "stdout",
     "output_type": "stream",
     "text": [
      "id for sap number1 is abc.ac.in\n",
      "id for sap number2 is rohit@gmail.com\n",
      "id for sap number3 is priyanshu@gmail.com\n"
     ]
    }
   ],
   "source": [
    "def id(sap_id):\n",
    "    for i in range(len(sap_id)):\n",
    "        print(f\"id for sap number{sap_id[i]} is {email[i]}\")\n",
    "\n",
    "\n",
    "\n",
    "sap_id=[1,2,3]\n",
    "email=[\"abc.ac.in\",\"rohit@gmail.com\",\"priyanshu@gmail.com\"]\n",
    "id(sap_id)"
   ]
  },
  {
   "cell_type": "markdown",
   "metadata": {},
   "source": [
    "2 using map. filter, lambda without using list comprehension\n"
   ]
  },
  {
   "cell_type": "code",
   "execution_count": 1,
   "metadata": {},
   "outputs": [
    {
     "name": "stdout",
     "output_type": "stream",
     "text": [
      "['590018178@stu.upes.ac.in', '590020098@stu.upes.ac.in']\n"
     ]
    }
   ],
   "source": [
    "def saptoemail(sap_ids):\n",
    "    return list(map(lambda sap_id: f\"{sap_id}@stu.upes.ac.in\", sap_ids))\n",
    "\n",
    "sap_ids = [590018178, 590020098]\n",
    "result = saptoemail(sap_ids)\n",
    "print(result)  "
   ]
  },
  {
   "cell_type": "markdown",
   "metadata": {},
   "source": [
    "3 using list comprehension"
   ]
  },
  {
   "cell_type": "code",
   "execution_count": 2,
   "metadata": {},
   "outputs": [
    {
     "name": "stdout",
     "output_type": "stream",
     "text": [
      "['590018178@stu.upes.ac.in', '590020098@stu.upes.ac.in']\n"
     ]
    }
   ],
   "source": [
    "def sap_ids_to_emails(sap_ids):\n",
    "    return [f\"{sap_id}@stu.upes.ac.in\" for sap_id in sap_ids]\n",
    "\n",
    "\n",
    "sap_ids = [590018178, 590020098]\n",
    "result = sap_ids_to_emails(sap_ids)\n",
    "print(result) "
   ]
  }
 ],
 "metadata": {
  "kernelspec": {
   "display_name": "Python 3",
   "language": "python",
   "name": "python3"
  },
  "language_info": {
   "codemirror_mode": {
    "name": "ipython",
    "version": 3
   },
   "file_extension": ".py",
   "mimetype": "text/x-python",
   "name": "python",
   "nbconvert_exporter": "python",
   "pygments_lexer": "ipython3",
   "version": "3.12.4"
  }
 },
 "nbformat": 4,
 "nbformat_minor": 2
}
