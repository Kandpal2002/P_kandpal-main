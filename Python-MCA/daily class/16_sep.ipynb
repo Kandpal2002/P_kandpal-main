{
 "cells": [
  {
   "cell_type": "markdown",
   "metadata": {},
   "source": [
    "Write a function that takes dir address from user and organize files on that folder in to following categories as given below?"
   ]
  },
  {
   "cell_type": "code",
   "execution_count": 3,
   "metadata": {},
   "outputs": [],
   "source": [
    "import os\n",
    "\n",
    "def organize_files(directory):\n",
    "    # Define file categories and their extensions\n",
    "    categories = {\n",
    "        'Video': ['.mp4', '.mkv', '.avi'],\n",
    "        'Audio': ['.mp3', '.wav', '.aac'],\n",
    "        'IMG': ['.jpg', '.jpeg', '.png', '.gif'],\n",
    "        'Docs': ['.pdf', '.docx', '.txt'],\n",
    "        'MISC': []\n",
    "    }\n",
    "    \n",
    "    # Create directories for each category\n",
    "    for category in categories.keys():\n",
    "        os.makedirs(os.path.join(directory, category), exist_ok=True)\n",
    "\n",
    "    # List all files in the directory\n",
    "    files = os.listdir(directory)\n",
    "\n",
    "    # Organize files into categories\n",
    "    for file in files:\n",
    "        file_path = os.path.join(directory, file)\n",
    "        if os.path.isfile(file_path):  # Check if it's a file\n",
    "            moved = False\n",
    "            for category, extensions in categories.items():\n",
    "                if any(file.endswith(ext) for ext in extensions):\n",
    "                    os.rename(file_path, os.path.join(directory, category, file))\n",
    "                    moved = True\n",
    "                    break\n",
    "            if not moved:\n",
    "                # Move to MISC if no category matched\n",
    "                os.rename(file_path, os.path.join(directory, 'MISC', file))\n",
    "\n",
    "# Example usage\n",
    "directory = input(\"Enter the directory location: \")\n",
    "organize_files(directory)"
   ]
  }
 ],
 "metadata": {
  "kernelspec": {
   "display_name": "Python 3",
   "language": "python",
   "name": "python3"
  },
  "language_info": {
   "codemirror_mode": {
    "name": "ipython",
    "version": 3
   },
   "file_extension": ".py",
   "mimetype": "text/x-python",
   "name": "python",
   "nbconvert_exporter": "python",
   "pygments_lexer": "ipython3",
   "version": "3.12.4"
  }
 },
 "nbformat": 4,
 "nbformat_minor": 2
}
